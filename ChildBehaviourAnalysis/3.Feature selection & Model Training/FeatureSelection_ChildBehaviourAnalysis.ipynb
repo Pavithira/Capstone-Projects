{
 "cells": [
  {
   "cell_type": "code",
   "execution_count": 1,
   "id": "e554c5e7-28ba-4f73-8188-9931c7446660",
   "metadata": {},
   "outputs": [],
   "source": [
    "# 1. Import libraries\n",
    "import pandas as pd\n",
    "import matplotlib.pyplot as plt\n",
    "import seaborn as sns\n",
    "from sklearn.model_selection import train_test_split, GridSearchCV\n",
    "from sklearn.preprocessing import LabelEncoder, StandardScaler\n",
    "from sklearn.metrics import classification_report, accuracy_score, f1_score\n",
    "from sklearn.linear_model import LogisticRegression\n",
    "from sklearn.tree import DecisionTreeClassifier\n",
    "from sklearn.ensemble import RandomForestClassifier\n",
    "from sklearn.svm import SVC\n",
    "from xgboost import XGBClassifier\n",
    "# from lightgbm import LGBMClassifier\n",
    "from imblearn.over_sampling import SMOTE\n",
    "import joblib\n",
    "import warnings\n",
    "warnings.filterwarnings(\"ignore\")"
   ]
  },
  {
   "cell_type": "code",
   "execution_count": 2,
   "id": "dc6e6f91-50cd-4360-aee9-3689e24d321a",
   "metadata": {},
   "outputs": [],
   "source": [
    "# !pip install lightgbm"
   ]
  },
  {
   "cell_type": "code",
   "execution_count": 3,
   "id": "d99cf1d0-9459-4126-8513-3139aa9b7cf0",
   "metadata": {},
   "outputs": [
    {
     "name": "stdout",
     "output_type": "stream",
     "text": [
      "Shape: (200, 9)\n"
     ]
    },
    {
     "data": {
      "text/html": [
       "<div>\n",
       "<style scoped>\n",
       "    .dataframe tbody tr th:only-of-type {\n",
       "        vertical-align: middle;\n",
       "    }\n",
       "\n",
       "    .dataframe tbody tr th {\n",
       "        vertical-align: top;\n",
       "    }\n",
       "\n",
       "    .dataframe thead th {\n",
       "        text-align: right;\n",
       "    }\n",
       "</style>\n",
       "<table border=\"1\" class=\"dataframe\">\n",
       "  <thead>\n",
       "    <tr style=\"text-align: right;\">\n",
       "      <th></th>\n",
       "      <th>Age</th>\n",
       "      <th>Gender</th>\n",
       "      <th>Sleep_Hours</th>\n",
       "      <th>Study_Hours</th>\n",
       "      <th>Play_Hours</th>\n",
       "      <th>Screen_Time</th>\n",
       "      <th>Meals_Per_Day</th>\n",
       "      <th>Mood</th>\n",
       "      <th>Behavior_Category</th>\n",
       "    </tr>\n",
       "  </thead>\n",
       "  <tbody>\n",
       "    <tr>\n",
       "      <th>0</th>\n",
       "      <td>14</td>\n",
       "      <td>Female</td>\n",
       "      <td>8.9</td>\n",
       "      <td>3.0</td>\n",
       "      <td>1.0</td>\n",
       "      <td>0.3</td>\n",
       "      <td>5</td>\n",
       "      <td>Angry</td>\n",
       "      <td>Healthy</td>\n",
       "    </tr>\n",
       "    <tr>\n",
       "      <th>1</th>\n",
       "      <td>6</td>\n",
       "      <td>Female</td>\n",
       "      <td>8.8</td>\n",
       "      <td>2.1</td>\n",
       "      <td>1.0</td>\n",
       "      <td>0.3</td>\n",
       "      <td>4</td>\n",
       "      <td>Happy</td>\n",
       "      <td>Healthy</td>\n",
       "    </tr>\n",
       "    <tr>\n",
       "      <th>2</th>\n",
       "      <td>11</td>\n",
       "      <td>Female</td>\n",
       "      <td>8.4</td>\n",
       "      <td>3.5</td>\n",
       "      <td>1.3</td>\n",
       "      <td>0.9</td>\n",
       "      <td>3</td>\n",
       "      <td>Happy</td>\n",
       "      <td>Healthy</td>\n",
       "    </tr>\n",
       "    <tr>\n",
       "      <th>3</th>\n",
       "      <td>14</td>\n",
       "      <td>Male</td>\n",
       "      <td>8.8</td>\n",
       "      <td>3.5</td>\n",
       "      <td>1.2</td>\n",
       "      <td>0.9</td>\n",
       "      <td>4</td>\n",
       "      <td>Happy</td>\n",
       "      <td>Healthy</td>\n",
       "    </tr>\n",
       "    <tr>\n",
       "      <th>4</th>\n",
       "      <td>9</td>\n",
       "      <td>Male</td>\n",
       "      <td>9.3</td>\n",
       "      <td>3.6</td>\n",
       "      <td>1.2</td>\n",
       "      <td>0.6</td>\n",
       "      <td>5</td>\n",
       "      <td>Happy</td>\n",
       "      <td>Healthy</td>\n",
       "    </tr>\n",
       "  </tbody>\n",
       "</table>\n",
       "</div>"
      ],
      "text/plain": [
       "   Age  Gender  Sleep_Hours  Study_Hours  Play_Hours  Screen_Time  \\\n",
       "0   14  Female          8.9          3.0         1.0          0.3   \n",
       "1    6  Female          8.8          2.1         1.0          0.3   \n",
       "2   11  Female          8.4          3.5         1.3          0.9   \n",
       "3   14    Male          8.8          3.5         1.2          0.9   \n",
       "4    9    Male          9.3          3.6         1.2          0.6   \n",
       "\n",
       "   Meals_Per_Day   Mood Behavior_Category  \n",
       "0              5  Angry           Healthy  \n",
       "1              4  Happy           Healthy  \n",
       "2              3  Happy           Healthy  \n",
       "3              4  Happy           Healthy  \n",
       "4              5  Happy           Healthy  "
      ]
     },
     "execution_count": 3,
     "metadata": {},
     "output_type": "execute_result"
    }
   ],
   "source": [
    "# 2. Load the dataset\n",
    "df = pd.read_csv(\"ChildBehaviourAnalysis.csv\")\n",
    "print(\"Shape:\", df.shape)\n",
    "df.head(5)"
   ]
  },
  {
   "cell_type": "code",
   "execution_count": 4,
   "id": "f2ee0f4d-3499-4af0-a33a-39d066bc5733",
   "metadata": {},
   "outputs": [
    {
     "name": "stdout",
     "output_type": "stream",
     "text": [
      "<class 'pandas.core.frame.DataFrame'>\n",
      "RangeIndex: 200 entries, 0 to 199\n",
      "Data columns (total 9 columns):\n",
      " #   Column             Non-Null Count  Dtype  \n",
      "---  ------             --------------  -----  \n",
      " 0   Age                200 non-null    int64  \n",
      " 1   Gender             200 non-null    object \n",
      " 2   Sleep_Hours        200 non-null    float64\n",
      " 3   Study_Hours        200 non-null    float64\n",
      " 4   Play_Hours         200 non-null    float64\n",
      " 5   Screen_Time        200 non-null    float64\n",
      " 6   Meals_Per_Day      200 non-null    int64  \n",
      " 7   Mood               200 non-null    object \n",
      " 8   Behavior_Category  200 non-null    object \n",
      "dtypes: float64(4), int64(2), object(3)\n",
      "memory usage: 14.2+ KB\n"
     ]
    }
   ],
   "source": [
    "df.info()"
   ]
  },
  {
   "cell_type": "code",
   "execution_count": 5,
   "id": "6b679276-10b8-4933-9212-97dadfc5def2",
   "metadata": {},
   "outputs": [
    {
     "data": {
      "text/plain": [
       "Age                  0\n",
       "Gender               0\n",
       "Sleep_Hours          0\n",
       "Study_Hours          0\n",
       "Play_Hours           0\n",
       "Screen_Time          0\n",
       "Meals_Per_Day        0\n",
       "Mood                 0\n",
       "Behavior_Category    0\n",
       "dtype: int64"
      ]
     },
     "execution_count": 5,
     "metadata": {},
     "output_type": "execute_result"
    }
   ],
   "source": [
    "df.isnull().sum()"
   ]
  },
  {
   "cell_type": "code",
   "execution_count": 6,
   "id": "5d2c8593-aea8-40e7-a739-ca7d503db50f",
   "metadata": {},
   "outputs": [
    {
     "data": {
      "text/plain": [
       "Index(['Age', 'Gender', 'Sleep_Hours', 'Study_Hours', 'Play_Hours',\n",
       "       'Screen_Time', 'Meals_Per_Day', 'Mood', 'Behavior_Category'],\n",
       "      dtype='object')"
      ]
     },
     "execution_count": 6,
     "metadata": {},
     "output_type": "execute_result"
    }
   ],
   "source": [
    "df.columns"
   ]
  },
  {
   "cell_type": "code",
   "execution_count": 7,
   "id": "7cfcb900-6035-4d6f-8afe-90b0bd3fcc4d",
   "metadata": {},
   "outputs": [
    {
     "name": "stdout",
     "output_type": "stream",
     "text": [
      "['Age', 'Sleep_Hours', 'Study_Hours', 'Play_Hours', 'Screen_Time', 'Meals_Per_Day']\n"
     ]
    }
   ],
   "source": [
    "numerical_col = [i for i in df.columns if df[i].dtype in ['int64', 'float64']]\n",
    "print(numerical_col)"
   ]
  },
  {
   "cell_type": "code",
   "execution_count": 8,
   "id": "e8501220-a129-47db-9714-fe49ad5a512b",
   "metadata": {},
   "outputs": [
    {
     "name": "stdout",
     "output_type": "stream",
     "text": [
      "['Gender', 'Mood', 'Behavior_Category']\n"
     ]
    }
   ],
   "source": [
    "categorical_col = [col for col in df.columns if col not in numerical_col]\n",
    "\n",
    "print(categorical_col)"
   ]
  },
  {
   "cell_type": "code",
   "execution_count": 9,
   "id": "3a9bc5c1-dcd4-4b65-bbb2-04d61032e87b",
   "metadata": {},
   "outputs": [],
   "source": [
    "# Encode categorical columns\n",
    "label_encoders = {}\n",
    "df_encoded = df.copy()\n",
    "for col in categorical_col:\n",
    "    le = LabelEncoder()\n",
    "    df_encoded[col] = le.fit_transform(df_encoded[col])\n",
    "    label_encoders[col] = le"
   ]
  },
  {
   "cell_type": "code",
   "execution_count": 10,
   "id": "3ceade43-fd47-4488-8449-c0f51482fd94",
   "metadata": {},
   "outputs": [
    {
     "data": {
      "text/html": [
       "<div>\n",
       "<style scoped>\n",
       "    .dataframe tbody tr th:only-of-type {\n",
       "        vertical-align: middle;\n",
       "    }\n",
       "\n",
       "    .dataframe tbody tr th {\n",
       "        vertical-align: top;\n",
       "    }\n",
       "\n",
       "    .dataframe thead th {\n",
       "        text-align: right;\n",
       "    }\n",
       "</style>\n",
       "<table border=\"1\" class=\"dataframe\">\n",
       "  <thead>\n",
       "    <tr style=\"text-align: right;\">\n",
       "      <th></th>\n",
       "      <th>Age</th>\n",
       "      <th>Gender</th>\n",
       "      <th>Sleep_Hours</th>\n",
       "      <th>Study_Hours</th>\n",
       "      <th>Play_Hours</th>\n",
       "      <th>Screen_Time</th>\n",
       "      <th>Meals_Per_Day</th>\n",
       "      <th>Mood</th>\n",
       "      <th>Behavior_Category</th>\n",
       "    </tr>\n",
       "  </thead>\n",
       "  <tbody>\n",
       "    <tr>\n",
       "      <th>0</th>\n",
       "      <td>14</td>\n",
       "      <td>0</td>\n",
       "      <td>8.9</td>\n",
       "      <td>3.0</td>\n",
       "      <td>1.0</td>\n",
       "      <td>0.3</td>\n",
       "      <td>5</td>\n",
       "      <td>0</td>\n",
       "      <td>0</td>\n",
       "    </tr>\n",
       "    <tr>\n",
       "      <th>1</th>\n",
       "      <td>6</td>\n",
       "      <td>0</td>\n",
       "      <td>8.8</td>\n",
       "      <td>2.1</td>\n",
       "      <td>1.0</td>\n",
       "      <td>0.3</td>\n",
       "      <td>4</td>\n",
       "      <td>1</td>\n",
       "      <td>0</td>\n",
       "    </tr>\n",
       "    <tr>\n",
       "      <th>2</th>\n",
       "      <td>11</td>\n",
       "      <td>0</td>\n",
       "      <td>8.4</td>\n",
       "      <td>3.5</td>\n",
       "      <td>1.3</td>\n",
       "      <td>0.9</td>\n",
       "      <td>3</td>\n",
       "      <td>1</td>\n",
       "      <td>0</td>\n",
       "    </tr>\n",
       "    <tr>\n",
       "      <th>3</th>\n",
       "      <td>14</td>\n",
       "      <td>1</td>\n",
       "      <td>8.8</td>\n",
       "      <td>3.5</td>\n",
       "      <td>1.2</td>\n",
       "      <td>0.9</td>\n",
       "      <td>4</td>\n",
       "      <td>1</td>\n",
       "      <td>0</td>\n",
       "    </tr>\n",
       "    <tr>\n",
       "      <th>4</th>\n",
       "      <td>9</td>\n",
       "      <td>1</td>\n",
       "      <td>9.3</td>\n",
       "      <td>3.6</td>\n",
       "      <td>1.2</td>\n",
       "      <td>0.6</td>\n",
       "      <td>5</td>\n",
       "      <td>1</td>\n",
       "      <td>0</td>\n",
       "    </tr>\n",
       "  </tbody>\n",
       "</table>\n",
       "</div>"
      ],
      "text/plain": [
       "   Age  Gender  Sleep_Hours  Study_Hours  Play_Hours  Screen_Time  \\\n",
       "0   14       0          8.9          3.0         1.0          0.3   \n",
       "1    6       0          8.8          2.1         1.0          0.3   \n",
       "2   11       0          8.4          3.5         1.3          0.9   \n",
       "3   14       1          8.8          3.5         1.2          0.9   \n",
       "4    9       1          9.3          3.6         1.2          0.6   \n",
       "\n",
       "   Meals_Per_Day  Mood  Behavior_Category  \n",
       "0              5     0                  0  \n",
       "1              4     1                  0  \n",
       "2              3     1                  0  \n",
       "3              4     1                  0  \n",
       "4              5     1                  0  "
      ]
     },
     "execution_count": 10,
     "metadata": {},
     "output_type": "execute_result"
    }
   ],
   "source": [
    "df_encoded.head(5)"
   ]
  },
  {
   "cell_type": "code",
   "execution_count": 11,
   "id": "67cc150b-96e4-4d21-b7a0-0ec396b17a2e",
   "metadata": {},
   "outputs": [
    {
     "data": {
      "text/plain": [
       "{'Gender': LabelEncoder(),\n",
       " 'Mood': LabelEncoder(),\n",
       " 'Behavior_Category': LabelEncoder()}"
      ]
     },
     "execution_count": 11,
     "metadata": {},
     "output_type": "execute_result"
    }
   ],
   "source": [
    "label_encoders"
   ]
  },
  {
   "cell_type": "code",
   "execution_count": 12,
   "id": "2cad92b1-2e52-4d04-b275-0990cb94953d",
   "metadata": {},
   "outputs": [],
   "source": [
    "# X= df_encoded.iloc[:,:-1].to_numpy()\n",
    "# y= df_encoded.iloc[:,-1].to_numpy()\n",
    "\n",
    "X= df_encoded.iloc[:,:-1]\n",
    "y= df_encoded.iloc[:,-1]"
   ]
  },
  {
   "cell_type": "code",
   "execution_count": 15,
   "id": "a4e67ebe-3703-4051-b9f4-29fee22b8008",
   "metadata": {},
   "outputs": [
    {
     "data": {
      "text/html": [
       "<div>\n",
       "<style scoped>\n",
       "    .dataframe tbody tr th:only-of-type {\n",
       "        vertical-align: middle;\n",
       "    }\n",
       "\n",
       "    .dataframe tbody tr th {\n",
       "        vertical-align: top;\n",
       "    }\n",
       "\n",
       "    .dataframe thead th {\n",
       "        text-align: right;\n",
       "    }\n",
       "</style>\n",
       "<table border=\"1\" class=\"dataframe\">\n",
       "  <thead>\n",
       "    <tr style=\"text-align: right;\">\n",
       "      <th></th>\n",
       "      <th>Age</th>\n",
       "      <th>Gender</th>\n",
       "      <th>Sleep_Hours</th>\n",
       "      <th>Study_Hours</th>\n",
       "      <th>Play_Hours</th>\n",
       "      <th>Screen_Time</th>\n",
       "      <th>Meals_Per_Day</th>\n",
       "      <th>Mood</th>\n",
       "    </tr>\n",
       "  </thead>\n",
       "  <tbody>\n",
       "    <tr>\n",
       "      <th>0</th>\n",
       "      <td>14</td>\n",
       "      <td>0</td>\n",
       "      <td>8.9</td>\n",
       "      <td>3.0</td>\n",
       "      <td>1.0</td>\n",
       "      <td>0.3</td>\n",
       "      <td>5</td>\n",
       "      <td>0</td>\n",
       "    </tr>\n",
       "    <tr>\n",
       "      <th>1</th>\n",
       "      <td>6</td>\n",
       "      <td>0</td>\n",
       "      <td>8.8</td>\n",
       "      <td>2.1</td>\n",
       "      <td>1.0</td>\n",
       "      <td>0.3</td>\n",
       "      <td>4</td>\n",
       "      <td>1</td>\n",
       "    </tr>\n",
       "    <tr>\n",
       "      <th>2</th>\n",
       "      <td>11</td>\n",
       "      <td>0</td>\n",
       "      <td>8.4</td>\n",
       "      <td>3.5</td>\n",
       "      <td>1.3</td>\n",
       "      <td>0.9</td>\n",
       "      <td>3</td>\n",
       "      <td>1</td>\n",
       "    </tr>\n",
       "    <tr>\n",
       "      <th>3</th>\n",
       "      <td>14</td>\n",
       "      <td>1</td>\n",
       "      <td>8.8</td>\n",
       "      <td>3.5</td>\n",
       "      <td>1.2</td>\n",
       "      <td>0.9</td>\n",
       "      <td>4</td>\n",
       "      <td>1</td>\n",
       "    </tr>\n",
       "    <tr>\n",
       "      <th>4</th>\n",
       "      <td>9</td>\n",
       "      <td>1</td>\n",
       "      <td>9.3</td>\n",
       "      <td>3.6</td>\n",
       "      <td>1.2</td>\n",
       "      <td>0.6</td>\n",
       "      <td>5</td>\n",
       "      <td>1</td>\n",
       "    </tr>\n",
       "    <tr>\n",
       "      <th>...</th>\n",
       "      <td>...</td>\n",
       "      <td>...</td>\n",
       "      <td>...</td>\n",
       "      <td>...</td>\n",
       "      <td>...</td>\n",
       "      <td>...</td>\n",
       "      <td>...</td>\n",
       "      <td>...</td>\n",
       "    </tr>\n",
       "    <tr>\n",
       "      <th>195</th>\n",
       "      <td>9</td>\n",
       "      <td>0</td>\n",
       "      <td>6.7</td>\n",
       "      <td>1.1</td>\n",
       "      <td>1.8</td>\n",
       "      <td>1.9</td>\n",
       "      <td>3</td>\n",
       "      <td>0</td>\n",
       "    </tr>\n",
       "    <tr>\n",
       "      <th>196</th>\n",
       "      <td>12</td>\n",
       "      <td>1</td>\n",
       "      <td>7.8</td>\n",
       "      <td>2.3</td>\n",
       "      <td>2.7</td>\n",
       "      <td>1.3</td>\n",
       "      <td>3</td>\n",
       "      <td>2</td>\n",
       "    </tr>\n",
       "    <tr>\n",
       "      <th>197</th>\n",
       "      <td>9</td>\n",
       "      <td>1</td>\n",
       "      <td>6.8</td>\n",
       "      <td>1.3</td>\n",
       "      <td>2.9</td>\n",
       "      <td>2.0</td>\n",
       "      <td>2</td>\n",
       "      <td>1</td>\n",
       "    </tr>\n",
       "    <tr>\n",
       "      <th>198</th>\n",
       "      <td>6</td>\n",
       "      <td>1</td>\n",
       "      <td>7.2</td>\n",
       "      <td>1.1</td>\n",
       "      <td>2.9</td>\n",
       "      <td>1.5</td>\n",
       "      <td>3</td>\n",
       "      <td>0</td>\n",
       "    </tr>\n",
       "    <tr>\n",
       "      <th>199</th>\n",
       "      <td>13</td>\n",
       "      <td>1</td>\n",
       "      <td>6.3</td>\n",
       "      <td>2.5</td>\n",
       "      <td>2.1</td>\n",
       "      <td>2.4</td>\n",
       "      <td>3</td>\n",
       "      <td>1</td>\n",
       "    </tr>\n",
       "  </tbody>\n",
       "</table>\n",
       "<p>200 rows × 8 columns</p>\n",
       "</div>"
      ],
      "text/plain": [
       "     Age  Gender  Sleep_Hours  Study_Hours  Play_Hours  Screen_Time  \\\n",
       "0     14       0          8.9          3.0         1.0          0.3   \n",
       "1      6       0          8.8          2.1         1.0          0.3   \n",
       "2     11       0          8.4          3.5         1.3          0.9   \n",
       "3     14       1          8.8          3.5         1.2          0.9   \n",
       "4      9       1          9.3          3.6         1.2          0.6   \n",
       "..   ...     ...          ...          ...         ...          ...   \n",
       "195    9       0          6.7          1.1         1.8          1.9   \n",
       "196   12       1          7.8          2.3         2.7          1.3   \n",
       "197    9       1          6.8          1.3         2.9          2.0   \n",
       "198    6       1          7.2          1.1         2.9          1.5   \n",
       "199   13       1          6.3          2.5         2.1          2.4   \n",
       "\n",
       "     Meals_Per_Day  Mood  \n",
       "0                5     0  \n",
       "1                4     1  \n",
       "2                3     1  \n",
       "3                4     1  \n",
       "4                5     1  \n",
       "..             ...   ...  \n",
       "195              3     0  \n",
       "196              3     2  \n",
       "197              2     1  \n",
       "198              3     0  \n",
       "199              3     1  \n",
       "\n",
       "[200 rows x 8 columns]"
      ]
     },
     "execution_count": 15,
     "metadata": {},
     "output_type": "execute_result"
    }
   ],
   "source": [
    "X"
   ]
  },
  {
   "cell_type": "code",
   "execution_count": 25,
   "id": "f7948b29-23f8-41ca-8c2e-42ac6f7e67b3",
   "metadata": {},
   "outputs": [
    {
     "data": {
      "text/plain": [
       "0      0\n",
       "1      0\n",
       "2      0\n",
       "3      0\n",
       "4      0\n",
       "      ..\n",
       "195    1\n",
       "196    1\n",
       "197    1\n",
       "198    1\n",
       "199    1\n",
       "Name: Behavior_Category, Length: 200, dtype: int32"
      ]
     },
     "execution_count": 25,
     "metadata": {},
     "output_type": "execute_result"
    }
   ],
   "source": [
    "y"
   ]
  },
  {
   "cell_type": "code",
   "execution_count": 27,
   "id": "cfbefe51-d0ab-402e-9293-e739bc0aa17f",
   "metadata": {},
   "outputs": [],
   "source": [
    "# Train-Test Split (BEFORE any resampling/scaling)\n",
    "X_train, X_test, y_train, y_test = train_test_split(X, y, test_size=0.2, random_state=42, stratify=y)"
   ]
  },
  {
   "cell_type": "code",
   "execution_count": 29,
   "id": "76deeabe-3e4b-4f41-be7c-607944ac28c8",
   "metadata": {},
   "outputs": [
    {
     "name": "stdout",
     "output_type": "stream",
     "text": [
      "✅ Top 5 Features (KBest):\n",
      "         Feature  Importance\n",
      "3    Screen_Time  497.087785\n",
      "0    Sleep_Hours  421.830599\n",
      "2     Play_Hours  223.722302\n",
      "1    Study_Hours  220.395452\n",
      "4  Meals_Per_Day  154.891045\n"
     ]
    }
   ],
   "source": [
    "from sklearn.feature_selection import SelectKBest, f_classif\n",
    "\n",
    "# Initialize and fit SelectKBest (top 5 features)\n",
    "kbest = SelectKBest(score_func=f_classif, k=5)\n",
    "kbest.fit(X_train, y_train)  # X should be your preprocessed features\n",
    "\n",
    "# 3. Get results (matches your original DataFrame format)\n",
    "top_5_features = pd.DataFrame({\n",
    "    \"Feature\": X_train.columns[kbest.get_support()],  # Selected feature names\n",
    "    \"Importance\": kbest.scores_[kbest.get_support()]  # ANOVA F-values\n",
    "}).sort_values(\"Importance\", ascending=False)\n",
    "\n",
    "print(\"✅ Top 5 Features (KBest):\")\n",
    "print(top_5_features)"
   ]
  },
  {
   "cell_type": "code",
   "execution_count": 33,
   "id": "00b291fe-0289-4802-b353-8c45323b44ea",
   "metadata": {},
   "outputs": [],
   "source": [
    "# Transform training and test data with KBest\n",
    "X_train_kbest = kbest.transform(X_train)\n",
    "X_test_kbest = kbest.transform(X_test)"
   ]
  },
  {
   "cell_type": "code",
   "execution_count": 35,
   "id": "5eca9338-8e73-4cb8-81d6-df259530eac6",
   "metadata": {},
   "outputs": [],
   "source": [
    "# Scaling\n",
    "scaler = StandardScaler()\n",
    "X_train_scaled = scaler.fit_transform(X_train_kbest)\n",
    "X_test_scaled = scaler.transform(X_test_kbest)"
   ]
  },
  {
   "cell_type": "code",
   "execution_count": 37,
   "id": "5b8a1511-94d3-4f03-a3c6-4622d417a6ce",
   "metadata": {},
   "outputs": [],
   "source": [
    "# Apply SMOTE (ONLY on the scaled training data)\n",
    "smote = SMOTE(random_state=42)\n",
    "X_train_resampled, y_train_resampled = smote.fit_resample(X_train_scaled, y_train)\n"
   ]
  },
  {
   "cell_type": "code",
   "execution_count": 39,
   "id": "34bebd86-366a-4f33-8e19-678811c82362",
   "metadata": {},
   "outputs": [
    {
     "data": {
      "text/plain": [
       "1.0"
      ]
     },
     "execution_count": 39,
     "metadata": {},
     "output_type": "execute_result"
    }
   ],
   "source": [
    "y_train.mean()"
   ]
  },
  {
   "cell_type": "code",
   "execution_count": 41,
   "id": "ebdaad9b-32ba-4d98-bad5-c17678fff4b3",
   "metadata": {},
   "outputs": [
    {
     "data": {
      "text/plain": [
       "1.0"
      ]
     },
     "execution_count": 41,
     "metadata": {},
     "output_type": "execute_result"
    }
   ],
   "source": [
    "y_test.mean()"
   ]
  },
  {
   "cell_type": "code",
   "execution_count": 43,
   "id": "d0399af0-66d1-4c13-bed9-9aa5959d9dab",
   "metadata": {},
   "outputs": [],
   "source": [
    "colvalues = X.columns"
   ]
  },
  {
   "cell_type": "code",
   "execution_count": 45,
   "id": "65b67afe-24c0-4775-bc48-ec40b5ad3eea",
   "metadata": {},
   "outputs": [
    {
     "data": {
      "text/plain": [
       "<Axes: >"
      ]
     },
     "execution_count": 45,
     "metadata": {},
     "output_type": "execute_result"
    },
    {
     "data": {
      "image/png": "[encoded data removed]",
      "text/plain": [
       "<Figure size 640x480 with 2 Axes>"
      ]
     },
     "metadata": {},
     "output_type": "display_data"
    }
   ],
   "source": [
    "# Assuming X was originally a DataFrame\n",
    "X_train_df = pd.DataFrame(X_train, columns = colvalues)\n",
    "\n",
    "# Now compute the correlation matrix\n",
    "corr_matrix = X_train_df.corr()\n",
    "\n",
    "# Plot the heatmap\n",
    "sns.heatmap(corr_matrix, annot=True)"
   ]
  },
  {
   "cell_type": "code",
   "execution_count": 46,
   "id": "071e5d38-76b0-4ffc-a4d0-31036a3c1946",
   "metadata": {},
   "outputs": [],
   "source": [
    "# import pandas as pd\n",
    "\n",
    "# # Convert X_train to DataFrame with column names if not already\n",
    "# X_train_df = pd.DataFrame(X_train, columns=['Age', 'Gender', 'Sleep_Hours', 'Study_Hours', 'Play_Hours', 'Screen_Time', 'Meals_Per_Day'])\n",
    "\n",
    "# # Compute correlation matrix\n",
    "# corr_matrix = X_train_df.corr().abs()\n",
    "\n",
    "# # Select upper triangle of correlation matrix\n",
    "# upper = corr_matrix.where(np.triu(np.ones(corr_matrix.shape), k=1).astype(bool))\n",
    "\n",
    "# # Find features with correlation > 0.75\n",
    "# to_drop = [column for column in upper.columns if any(upper[column] > 0.75)]\n",
    "\n",
    "# print(\"Columns to drop due to high correlation:\", to_drop)\n",
    "\n",
    "# # Drop those features from the original dataset\n",
    "# X_train_reduced = X_train_df.drop(columns=to_drop)"
   ]
  },
  {
   "cell_type": "code",
   "execution_count": 49,
   "id": "a8f3e5fb-0b2d-4173-8733-388e5d66e435",
   "metadata": {},
   "outputs": [],
   "source": [
    "models = {\n",
    "     \"DecisionTree\": (DecisionTreeClassifier(),{         \n",
    "         'criterion': ['gini', 'entropy','log_loss'],\n",
    "         'splitter':['best', 'random'],\n",
    "         'max_depth': [5, 10, 20]\n",
    "    }),\n",
    "    \"LogisticRegression\": (LogisticRegression(max_iter=1000), {\n",
    "        'C': [0.01, 0.1, 1, 10]\n",
    "    }),\n",
    "    \n",
    "    \"RandomForest\": (RandomForestClassifier(), {\n",
    "        'n_estimators': [50, 100, 200],\n",
    "        'max_depth': [None, 10, 20]\n",
    "    }),\n",
    "    \"SVM\": (SVC(probability=True), {\n",
    "        'C': [0.1, 1, 10],\n",
    "        'kernel': ['linear', 'rbf']\n",
    "    }),\n",
    "    \"XGBoost\": (XGBClassifier(use_label_encoder=False, eval_metric='mlogloss'), {\n",
    "        'n_estimators': [50, 100],\n",
    "        'learning_rate': [0.01, 0.1],\n",
    "        'max_depth': [3, 5]\n",
    "    })\n",
    "    # \"LightGBM\": (LGBMClassifier(), {\n",
    "    #     'n_estimators': [50, 100],\n",
    "    #     'learning_rate': [0.01, 0.1],\n",
    "    #     'num_leaves': [31, 50]\n",
    "    # })\n",
    "}"
   ]
  },
  {
   "cell_type": "code",
   "execution_count": 51,
   "id": "1cfdf199-dbbc-4059-b01e-ef7a2b53fbde",
   "metadata": {},
   "outputs": [
    {
     "name": "stdout",
     "output_type": "stream",
     "text": [
      "Tuning DecisionTree...\n",
      "Best Params: {'criterion': 'gini', 'max_depth': 5, 'splitter': 'random'}\n",
      "Accuracy: 1.00, F1 Score: 1.00\n",
      "              precision    recall  f1-score   support\n",
      "\n",
      "           0       1.00      1.00      1.00         8\n",
      "           1       1.00      1.00      1.00        24\n",
      "           2       1.00      1.00      1.00         8\n",
      "\n",
      "    accuracy                           1.00        40\n",
      "   macro avg       1.00      1.00      1.00        40\n",
      "weighted avg       1.00      1.00      1.00        40\n",
      "\n",
      "Tuning LogisticRegression...\n",
      "Best Params: {'C': 0.01}\n",
      "Accuracy: 1.00, F1 Score: 1.00\n",
      "              precision    recall  f1-score   support\n",
      "\n",
      "           0       1.00      1.00      1.00         8\n",
      "           1       1.00      1.00      1.00        24\n",
      "           2       1.00      1.00      1.00         8\n",
      "\n",
      "    accuracy                           1.00        40\n",
      "   macro avg       1.00      1.00      1.00        40\n",
      "weighted avg       1.00      1.00      1.00        40\n",
      "\n",
      "Tuning RandomForest...\n",
      "Best Params: {'max_depth': None, 'n_estimators': 50}\n",
      "Accuracy: 1.00, F1 Score: 1.00\n",
      "              precision    recall  f1-score   support\n",
      "\n",
      "           0       1.00      1.00      1.00         8\n",
      "           1       1.00      1.00      1.00        24\n",
      "           2       1.00      1.00      1.00         8\n",
      "\n",
      "    accuracy                           1.00        40\n",
      "   macro avg       1.00      1.00      1.00        40\n",
      "weighted avg       1.00      1.00      1.00        40\n",
      "\n",
      "Tuning SVM...\n",
      "Best Params: {'C': 0.1, 'kernel': 'linear'}\n",
      "Accuracy: 1.00, F1 Score: 1.00\n",
      "              precision    recall  f1-score   support\n",
      "\n",
      "           0       1.00      1.00      1.00         8\n",
      "           1       1.00      1.00      1.00        24\n",
      "           2       1.00      1.00      1.00         8\n",
      "\n",
      "    accuracy                           1.00        40\n",
      "   macro avg       1.00      1.00      1.00        40\n",
      "weighted avg       1.00      1.00      1.00        40\n",
      "\n",
      "Tuning XGBoost...\n",
      "Best Params: {'learning_rate': 0.01, 'max_depth': 3, 'n_estimators': 50}\n",
      "Accuracy: 1.00, F1 Score: 1.00\n",
      "              precision    recall  f1-score   support\n",
      "\n",
      "           0       1.00      1.00      1.00         8\n",
      "           1       1.00      1.00      1.00        24\n",
      "           2       1.00      1.00      1.00         8\n",
      "\n",
      "    accuracy                           1.00        40\n",
      "   macro avg       1.00      1.00      1.00        40\n",
      "weighted avg       1.00      1.00      1.00        40\n",
      "\n"
     ]
    }
   ],
   "source": [
    "best_model = None\n",
    "best_score = 0\n",
    "best_name = \"\"\n",
    "best_grid = None\n",
    "\n",
    "for name, (model, params) in models.items():\n",
    "    print(f\"Tuning {name}...\")\n",
    "    grid = GridSearchCV(model, params, cv=5, scoring='f1_weighted', n_jobs=-1,refit=True) #n_jobs = number of processes you wish to run in parallel for this task if it -1 it will use all available processors.\n",
    "    grid.fit(X_train_resampled, y_train_resampled)\n",
    "    y_pred = grid.predict(X_test_scaled)\n",
    "    acc = accuracy_score(y_test, y_pred)\n",
    "    f1 = f1_score(y_test, y_pred, average='weighted')\n",
    "    print(f\"Best Params: {grid.best_params_}\")\n",
    "    print(f\"Accuracy: {acc:.2f}, F1 Score: {f1:.2f}\")\n",
    "    print(classification_report(y_test, y_pred))\n",
    "\n",
    "    if f1 > best_score:\n",
    "        best_model = grid.best_estimator_\n",
    "        best_score = f1\n",
    "        best_name = name\n",
    "        best_grid = grid"
   ]
  },
  {
   "cell_type": "code",
   "execution_count": 52,
   "id": "59af5067-1b81-4409-9ea7-3ee99d2c5d33",
   "metadata": {},
   "outputs": [
    {
     "name": "stdout",
     "output_type": "stream",
     "text": [
      "\n",
      "Best Model: DecisionTree with F1 Score: 1.00\n",
      "Saved: best_model.pkl, scaler.pkl, label_encoders.pkl\n"
     ]
    }
   ],
   "source": [
    "# Save best model\n",
    "print(f\"\\nBest Model: {best_name} with F1 Score: {best_score:.2f}\")\n",
    "joblib.dump(best_model, \"best_model.pkl\")\n",
    "joblib.dump(scaler, \"scaler.pkl\")\n",
    "joblib.dump(label_encoders, \"label_encoders.pkl\")\n",
    "\n",
    "print(\"Saved: best_model.pkl, scaler.pkl, label_encoders.pkl\")\n"
   ]
  },
  {
   "cell_type": "code",
   "execution_count": 53,
   "id": "92198900-5c97-4006-91a7-35d68073a2f9",
   "metadata": {},
   "outputs": [
    {
     "name": "stdout",
     "output_type": "stream",
     "text": [
      "Age                  6.650352\n",
      "Sleep_Hours          2.037446\n",
      "Screen_Time          1.342309\n",
      "Meals_Per_Day        0.891231\n",
      "Study_Hours          0.772840\n",
      "Play_Hours           0.669805\n",
      "Mood                 0.651156\n",
      "Behavior_Category    0.402010\n",
      "Gender               0.251156\n",
      "dtype: float64\n"
     ]
    }
   ],
   "source": [
    "feature_variance = df_encoded.var().sort_values(ascending=False)\n",
    "print(feature_variance)"
   ]
  },
  {
   "cell_type": "code",
   "execution_count": 54,
   "id": "41953dba-c6ea-4b34-aaf3-36ce5edb92ee",
   "metadata": {},
   "outputs": [],
   "source": [
    "# # Reconstruct original column names if lost\n",
    "# original_X = df_encoded.drop(\"Behavior_Category\", axis=1)\n",
    "\n",
    "# # Get feature importances\n",
    "# if hasattr(best_model, \"feature_importances_\"):\n",
    "#     importances = best_model.feature_importances_\n",
    "# elif hasattr(best_model, \"coef_\"):\n",
    "#     importances = best_model.coef_[0]\n",
    "# else:\n",
    "#     importances = [0]*original_X.shape[1]\n",
    "\n",
    "# # Create DataFrame to view feature importance\n",
    "# import pandas as pd\n",
    "# feature_importance_df = pd.DataFrame({\n",
    "#     \"Feature\": original_X.columns,\n",
    "#     \"Importance\": importances\n",
    "# }).sort_values(by=\"Importance\", ascending=False)\n",
    "\n",
    "# top_5_features = feature_importance_df.head(5)\n",
    "# print(\"✅ Top 5 Features to use in your Django UI:\")\n",
    "# print(top_5_features)\n"
   ]
  },
  {
   "cell_type": "code",
   "execution_count": 55,
   "id": "b59856d2-6663-40cf-8eef-bde57838765a",
   "metadata": {},
   "outputs": [
    {
     "name": "stdout",
     "output_type": "stream",
     "text": [
      "✅ Top 5 features by model importance:\n",
      "         Feature  Importance\n",
      "3    Screen_Time    0.467758\n",
      "2     Play_Hours    0.433384\n",
      "0    Sleep_Hours    0.098858\n",
      "1    Study_Hours    0.000000\n",
      "4  Meals_Per_Day    0.000000\n"
     ]
    }
   ],
   "source": [
    "# Create DataFrame with selected features\n",
    "selected_features = X_train.columns[kbest.get_support()] \n",
    "original_X = pd.DataFrame(X_train_kbest, columns=selected_features)\n",
    "\n",
    "# Get importances from the trained model\n",
    "if hasattr(best_model, \"feature_importances_\"):\n",
    "    importances = best_model.feature_importances_\n",
    "elif hasattr(best_model, \"coef_\"):\n",
    "    importances = best_model.coef_[0]\n",
    "else:\n",
    "    importances = [0] * original_X.shape[1]\n",
    "\n",
    "# Safety check\n",
    "if len(importances) != len(selected_features):\n",
    "    raise ValueError(f\"Mismatch! Features: {len(selected_features)}, Importances: {len(importances)}\")\n",
    "\n",
    "# Create feature importance DataFrame\n",
    "feature_importance_df = pd.DataFrame({\n",
    "    \"Feature\": selected_features,\n",
    "    \"Importance\": importances\n",
    "}).sort_values(by=\"Importance\", ascending=False)\n",
    "\n",
    "# Show top 5\n",
    "top_5_features = feature_importance_df.head(5)\n",
    "print(\"✅ Top 5 features by model importance:\")\n",
    "print(top_5_features)"
   ]
  },
  {
   "cell_type": "code",
   "execution_count": 56,
   "id": "b6a1a4ce-ad39-445c-a3d6-4e5aaacd50ac",
   "metadata": {},
   "outputs": [
    {
     "data": {
      "image/png": "[encoded data removed]",
      "text/plain": [
       "<Figure size 800x500 with 1 Axes>"
      ]
     },
     "metadata": {},
     "output_type": "display_data"
    }
   ],
   "source": [
    "import matplotlib.pyplot as plt\n",
    "import seaborn as sns\n",
    "\n",
    "plt.figure(figsize=(8, 5))\n",
    "sns.barplot(x=\"Importance\", y=\"Feature\", data=top_5_features, palette=\"viridis\")\n",
    "plt.title(\"Top 5 Feature Importances (Model-based)\")\n",
    "plt.xlabel(\"Importance Score\")\n",
    "plt.ylabel(\"Feature\")\n",
    "plt.tight_layout()\n",
    "plt.show()"
   ]
  },
  {
   "cell_type": "code",
   "execution_count": null,
   "id": "bf5af072-f135-4817-93a4-c9529f93d275",
   "metadata": {},
   "outputs": [],
   "source": []
  },
  {
   "cell_type": "code",
   "execution_count": null,
   "id": "bed93a78-fb5a-4915-a765-9ddb218c2f9e",
   "metadata": {},
   "outputs": [],
   "source": []
  }
 ],
 "metadata": {
  "kernelspec": {
   "display_name": "Python [conda env:base] *",
   "language": "python",
   "name": "conda-base-py"
  },
  "language_info": {
   "codemirror_mode": {
    "name": "ipython",
    "version": 3
   },
   "file_extension": ".py",
   "mimetype": "text/x-python",
   "name": "python",
   "nbconvert_exporter": "python",
   "pygments_lexer": "ipython3",
   "version": "3.12.7"
  }
 },
 "nbformat": 4,
 "nbformat_minor": 5
}
