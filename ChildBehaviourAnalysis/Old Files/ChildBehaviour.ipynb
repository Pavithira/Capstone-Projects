{
 "cells": [
  {
   "cell_type": "code",
   "execution_count": 1,
   "id": "e554c5e7-28ba-4f73-8188-9931c7446660",
   "metadata": {},
   "outputs": [],
   "source": [
    "# 1. Import libraries\n",
    "import pandas as pd\n",
    "import matplotlib.pyplot as plt\n",
    "import seaborn as sns\n",
    "from sklearn.model_selection import train_test_split, GridSearchCV\n",
    "from sklearn.preprocessing import LabelEncoder, StandardScaler\n",
    "from sklearn.metrics import classification_report, accuracy_score, f1_score\n",
    "from sklearn.linear_model import LogisticRegression\n",
    "from sklearn.tree import DecisionTreeClassifier\n",
    "from sklearn.ensemble import RandomForestClassifier\n",
    "from sklearn.svm import SVC\n",
    "from xgboost import XGBClassifier\n",
    "from lightgbm import LGBMClassifier\n",
    "from imblearn.over_sampling import SMOTE\n",
    "import joblib\n",
    "import warnings\n",
    "warnings.filterwarnings(\"ignore\")"
   ]
  },
  {
   "cell_type": "code",
   "execution_count": null,
   "id": "dc6e6f91-50cd-4360-aee9-3689e24d321a",
   "metadata": {},
   "outputs": [],
   "source": [
    "# !pip install lightgbm"
   ]
  },
  {
   "cell_type": "code",
   "execution_count": 2,
   "id": "d99cf1d0-9459-4126-8513-3139aa9b7cf0",
   "metadata": {},
   "outputs": [
    {
     "name": "stdout",
     "output_type": "stream",
     "text": [
      "Shape: (200, 9)\n"
     ]
    },
    {
     "data": {
      "text/html": [
       "<div>\n",
       "<style scoped>\n",
       "    .dataframe tbody tr th:only-of-type {\n",
       "        vertical-align: middle;\n",
       "    }\n",
       "\n",
       "    .dataframe tbody tr th {\n",
       "        vertical-align: top;\n",
       "    }\n",
       "\n",
       "    .dataframe thead th {\n",
       "        text-align: right;\n",
       "    }\n",
       "</style>\n",
       "<table border=\"1\" class=\"dataframe\">\n",
       "  <thead>\n",
       "    <tr style=\"text-align: right;\">\n",
       "      <th></th>\n",
       "      <th>Age</th>\n",
       "      <th>Gender</th>\n",
       "      <th>Sleep_Hours</th>\n",
       "      <th>Study_Hours</th>\n",
       "      <th>Play_Hours</th>\n",
       "      <th>Screen_Time</th>\n",
       "      <th>Meals_Per_Day</th>\n",
       "      <th>Mood</th>\n",
       "      <th>Behavior_Category</th>\n",
       "    </tr>\n",
       "  </thead>\n",
       "  <tbody>\n",
       "    <tr>\n",
       "      <th>0</th>\n",
       "      <td>12</td>\n",
       "      <td>Female</td>\n",
       "      <td>7.0</td>\n",
       "      <td>-0.6</td>\n",
       "      <td>3.3</td>\n",
       "      <td>3.2</td>\n",
       "      <td>2</td>\n",
       "      <td>Sad</td>\n",
       "      <td>Unhealthy</td>\n",
       "    </tr>\n",
       "    <tr>\n",
       "      <th>1</th>\n",
       "      <td>9</td>\n",
       "      <td>Male</td>\n",
       "      <td>9.0</td>\n",
       "      <td>3.1</td>\n",
       "      <td>3.1</td>\n",
       "      <td>3.4</td>\n",
       "      <td>2</td>\n",
       "      <td>Happy</td>\n",
       "      <td>Needs Improvement</td>\n",
       "    </tr>\n",
       "    <tr>\n",
       "      <th>2</th>\n",
       "      <td>10</td>\n",
       "      <td>Male</td>\n",
       "      <td>11.0</td>\n",
       "      <td>0.1</td>\n",
       "      <td>2.1</td>\n",
       "      <td>3.5</td>\n",
       "      <td>2</td>\n",
       "      <td>Happy</td>\n",
       "      <td>Needs Improvement</td>\n",
       "    </tr>\n",
       "    <tr>\n",
       "      <th>3</th>\n",
       "      <td>12</td>\n",
       "      <td>Female</td>\n",
       "      <td>7.9</td>\n",
       "      <td>2.6</td>\n",
       "      <td>3.0</td>\n",
       "      <td>3.1</td>\n",
       "      <td>2</td>\n",
       "      <td>Happy</td>\n",
       "      <td>Needs Improvement</td>\n",
       "    </tr>\n",
       "    <tr>\n",
       "      <th>4</th>\n",
       "      <td>8</td>\n",
       "      <td>Female</td>\n",
       "      <td>7.6</td>\n",
       "      <td>1.8</td>\n",
       "      <td>3.2</td>\n",
       "      <td>3.5</td>\n",
       "      <td>4</td>\n",
       "      <td>Happy</td>\n",
       "      <td>Needs Improvement</td>\n",
       "    </tr>\n",
       "  </tbody>\n",
       "</table>\n",
       "</div>"
      ],
      "text/plain": [
       "   Age  Gender  Sleep_Hours  Study_Hours  Play_Hours  Screen_Time  \\\n",
       "0   12  Female          7.0         -0.6         3.3          3.2   \n",
       "1    9    Male          9.0          3.1         3.1          3.4   \n",
       "2   10    Male         11.0          0.1         2.1          3.5   \n",
       "3   12  Female          7.9          2.6         3.0          3.1   \n",
       "4    8  Female          7.6          1.8         3.2          3.5   \n",
       "\n",
       "   Meals_Per_Day   Mood  Behavior_Category  \n",
       "0              2    Sad          Unhealthy  \n",
       "1              2  Happy  Needs Improvement  \n",
       "2              2  Happy  Needs Improvement  \n",
       "3              2  Happy  Needs Improvement  \n",
       "4              4  Happy  Needs Improvement  "
      ]
     },
     "execution_count": 2,
     "metadata": {},
     "output_type": "execute_result"
    }
   ],
   "source": [
    "# 2. Load the dataset\n",
    "df = pd.read_csv(\"child_behavior_habit_tracker.csv\")\n",
    "print(\"Shape:\", df.shape)\n",
    "df.head(5)"
   ]
  },
  {
   "cell_type": "code",
   "execution_count": 3,
   "id": "f2ee0f4d-3499-4af0-a33a-39d066bc5733",
   "metadata": {},
   "outputs": [
    {
     "name": "stdout",
     "output_type": "stream",
     "text": [
      "<class 'pandas.core.frame.DataFrame'>\n",
      "RangeIndex: 200 entries, 0 to 199\n",
      "Data columns (total 9 columns):\n",
      " #   Column             Non-Null Count  Dtype  \n",
      "---  ------             --------------  -----  \n",
      " 0   Age                200 non-null    int64  \n",
      " 1   Gender             200 non-null    object \n",
      " 2   Sleep_Hours        200 non-null    float64\n",
      " 3   Study_Hours        200 non-null    float64\n",
      " 4   Play_Hours         200 non-null    float64\n",
      " 5   Screen_Time        200 non-null    float64\n",
      " 6   Meals_Per_Day      200 non-null    int64  \n",
      " 7   Mood               200 non-null    object \n",
      " 8   Behavior_Category  200 non-null    object \n",
      "dtypes: float64(4), int64(2), object(3)\n",
      "memory usage: 14.2+ KB\n"
     ]
    }
   ],
   "source": [
    "df.info()"
   ]
  },
  {
   "cell_type": "code",
   "execution_count": 7,
   "id": "6b679276-10b8-4933-9212-97dadfc5def2",
   "metadata": {},
   "outputs": [
    {
     "data": {
      "text/plain": [
       "Age                  0\n",
       "Gender               0\n",
       "Sleep_Hours          0\n",
       "Study_Hours          0\n",
       "Play_Hours           0\n",
       "Screen_Time          0\n",
       "Meals_Per_Day        0\n",
       "Mood                 0\n",
       "Behavior_Category    0\n",
       "dtype: int64"
      ]
     },
     "execution_count": 7,
     "metadata": {},
     "output_type": "execute_result"
    }
   ],
   "source": [
    "df.isnull().sum()"
   ]
  },
  {
   "cell_type": "code",
   "execution_count": 9,
   "id": "8a5caa34-dddd-435a-b1a8-eda3d7139e45",
   "metadata": {},
   "outputs": [
    {
     "data": {
      "text/plain": [
       "Behavior_Category\n",
       "Needs Improvement    144\n",
       "Unhealthy             28\n",
       "Healthy               28\n",
       "Name: count, dtype: int64"
      ]
     },
     "execution_count": 9,
     "metadata": {},
     "output_type": "execute_result"
    }
   ],
   "source": [
    "df[\"Behavior_Category\"].value_counts()  # Clearly shows here it is imbalanced dataset"
   ]
  },
  {
   "cell_type": "code",
   "execution_count": 11,
   "id": "6d3acc51-a09d-4d5d-821a-365bc08e1aec",
   "metadata": {},
   "outputs": [
    {
     "data": {
      "image/png": "[encoded data removed]",
      "text/plain": [
       "<Figure size 640x480 with 1 Axes>"
      ]
     },
     "metadata": {},
     "output_type": "display_data"
    }
   ],
   "source": [
    "# EDA - Class distribution\n",
    "sns.countplot(x=\"Behavior_Category\", data=df)\n",
    "plt.title(\"Target Distribution\")\n",
    "plt.show()"
   ]
  },
  {
   "cell_type": "code",
   "execution_count": 13,
   "id": "5cf89df0-3d45-4ab9-8f01-b5069870a217",
   "metadata": {},
   "outputs": [
    {
     "data": {
      "text/plain": [
       "Mood\n",
       "Happy      116\n",
       "Neutral     55\n",
       "Sad         29\n",
       "Name: count, dtype: int64"
      ]
     },
     "execution_count": 13,
     "metadata": {},
     "output_type": "execute_result"
    }
   ],
   "source": [
    "df['Mood'].value_counts()"
   ]
  },
  {
   "cell_type": "code",
   "execution_count": 15,
   "id": "5d2c8593-aea8-40e7-a739-ca7d503db50f",
   "metadata": {},
   "outputs": [
    {
     "data": {
      "text/plain": [
       "Index(['Age', 'Gender', 'Sleep_Hours', 'Study_Hours', 'Play_Hours',\n",
       "       'Screen_Time', 'Meals_Per_Day', 'Mood', 'Behavior_Category'],\n",
       "      dtype='object')"
      ]
     },
     "execution_count": 15,
     "metadata": {},
     "output_type": "execute_result"
    }
   ],
   "source": [
    "df.columns"
   ]
  },
  {
   "cell_type": "code",
   "execution_count": 17,
   "id": "7cfcb900-6035-4d6f-8afe-90b0bd3fcc4d",
   "metadata": {},
   "outputs": [
    {
     "name": "stdout",
     "output_type": "stream",
     "text": [
      "['Age', 'Sleep_Hours', 'Study_Hours', 'Play_Hours', 'Screen_Time', 'Meals_Per_Day']\n"
     ]
    }
   ],
   "source": [
    "numerical_col = [i for i in df.columns if df[i].dtype in ['int64', 'float64']]\n",
    "print(numerical_col)"
   ]
  },
  {
   "cell_type": "code",
   "execution_count": 19,
   "id": "e8501220-a129-47db-9714-fe49ad5a512b",
   "metadata": {},
   "outputs": [
    {
     "name": "stdout",
     "output_type": "stream",
     "text": [
      "['Gender', 'Mood', 'Behavior_Category']\n"
     ]
    }
   ],
   "source": [
    "categorical_col = [col for col in df.columns if col not in numerical_col]\n",
    "\n",
    "print(categorical_col)"
   ]
  },
  {
   "cell_type": "code",
   "execution_count": 21,
   "id": "3a9bc5c1-dcd4-4b65-bbb2-04d61032e87b",
   "metadata": {},
   "outputs": [],
   "source": [
    "# Encode categorical columns\n",
    "label_encoders = {}\n",
    "df_encoded = df.copy()\n",
    "for col in categorical_col:\n",
    "    le = LabelEncoder()\n",
    "    df_encoded[col] = le.fit_transform(df_encoded[col])\n",
    "    label_encoders[col] = le"
   ]
  },
  {
   "cell_type": "code",
   "execution_count": 23,
   "id": "3ceade43-fd47-4488-8449-c0f51482fd94",
   "metadata": {},
   "outputs": [
    {
     "data": {
      "text/html": [
       "<div>\n",
       "<style scoped>\n",
       "    .dataframe tbody tr th:only-of-type {\n",
       "        vertical-align: middle;\n",
       "    }\n",
       "\n",
       "    .dataframe tbody tr th {\n",
       "        vertical-align: top;\n",
       "    }\n",
       "\n",
       "    .dataframe thead th {\n",
       "        text-align: right;\n",
       "    }\n",
       "</style>\n",
       "<table border=\"1\" class=\"dataframe\">\n",
       "  <thead>\n",
       "    <tr style=\"text-align: right;\">\n",
       "      <th></th>\n",
       "      <th>Age</th>\n",
       "      <th>Gender</th>\n",
       "      <th>Sleep_Hours</th>\n",
       "      <th>Study_Hours</th>\n",
       "      <th>Play_Hours</th>\n",
       "      <th>Screen_Time</th>\n",
       "      <th>Meals_Per_Day</th>\n",
       "      <th>Mood</th>\n",
       "      <th>Behavior_Category</th>\n",
       "    </tr>\n",
       "  </thead>\n",
       "  <tbody>\n",
       "    <tr>\n",
       "      <th>0</th>\n",
       "      <td>12</td>\n",
       "      <td>0</td>\n",
       "      <td>7.0</td>\n",
       "      <td>-0.6</td>\n",
       "      <td>3.3</td>\n",
       "      <td>3.2</td>\n",
       "      <td>2</td>\n",
       "      <td>2</td>\n",
       "      <td>2</td>\n",
       "    </tr>\n",
       "    <tr>\n",
       "      <th>1</th>\n",
       "      <td>9</td>\n",
       "      <td>1</td>\n",
       "      <td>9.0</td>\n",
       "      <td>3.1</td>\n",
       "      <td>3.1</td>\n",
       "      <td>3.4</td>\n",
       "      <td>2</td>\n",
       "      <td>0</td>\n",
       "      <td>1</td>\n",
       "    </tr>\n",
       "    <tr>\n",
       "      <th>2</th>\n",
       "      <td>10</td>\n",
       "      <td>1</td>\n",
       "      <td>11.0</td>\n",
       "      <td>0.1</td>\n",
       "      <td>2.1</td>\n",
       "      <td>3.5</td>\n",
       "      <td>2</td>\n",
       "      <td>0</td>\n",
       "      <td>1</td>\n",
       "    </tr>\n",
       "    <tr>\n",
       "      <th>3</th>\n",
       "      <td>12</td>\n",
       "      <td>0</td>\n",
       "      <td>7.9</td>\n",
       "      <td>2.6</td>\n",
       "      <td>3.0</td>\n",
       "      <td>3.1</td>\n",
       "      <td>2</td>\n",
       "      <td>0</td>\n",
       "      <td>1</td>\n",
       "    </tr>\n",
       "    <tr>\n",
       "      <th>4</th>\n",
       "      <td>8</td>\n",
       "      <td>0</td>\n",
       "      <td>7.6</td>\n",
       "      <td>1.8</td>\n",
       "      <td>3.2</td>\n",
       "      <td>3.5</td>\n",
       "      <td>4</td>\n",
       "      <td>0</td>\n",
       "      <td>1</td>\n",
       "    </tr>\n",
       "  </tbody>\n",
       "</table>\n",
       "</div>"
      ],
      "text/plain": [
       "   Age  Gender  Sleep_Hours  Study_Hours  Play_Hours  Screen_Time  \\\n",
       "0   12       0          7.0         -0.6         3.3          3.2   \n",
       "1    9       1          9.0          3.1         3.1          3.4   \n",
       "2   10       1         11.0          0.1         2.1          3.5   \n",
       "3   12       0          7.9          2.6         3.0          3.1   \n",
       "4    8       0          7.6          1.8         3.2          3.5   \n",
       "\n",
       "   Meals_Per_Day  Mood  Behavior_Category  \n",
       "0              2     2                  2  \n",
       "1              2     0                  1  \n",
       "2              2     0                  1  \n",
       "3              2     0                  1  \n",
       "4              4     0                  1  "
      ]
     },
     "execution_count": 23,
     "metadata": {},
     "output_type": "execute_result"
    }
   ],
   "source": [
    "df_encoded.head(5)"
   ]
  },
  {
   "cell_type": "code",
   "execution_count": 27,
   "id": "67cc150b-96e4-4d21-b7a0-0ec396b17a2e",
   "metadata": {},
   "outputs": [
    {
     "data": {
      "text/plain": [
       "{'Gender': LabelEncoder(),\n",
       " 'Mood': LabelEncoder(),\n",
       " 'Behavior_Category': LabelEncoder()}"
      ]
     },
     "execution_count": 27,
     "metadata": {},
     "output_type": "execute_result"
    }
   ],
   "source": [
    "label_encoders"
   ]
  },
  {
   "cell_type": "code",
   "execution_count": 29,
   "id": "2cad92b1-2e52-4d04-b275-0990cb94953d",
   "metadata": {},
   "outputs": [],
   "source": [
    "X= df_encoded.iloc[:,:-1].to_numpy()\n",
    "y= df_encoded.iloc[:,-1].to_numpy()"
   ]
  },
  {
   "cell_type": "code",
   "execution_count": 31,
   "id": "a4e67ebe-3703-4051-b9f4-29fee22b8008",
   "metadata": {},
   "outputs": [
    {
     "data": {
      "text/plain": [
       "array([[12. ,  0. ,  7. , ...,  3.2,  2. ,  2. ],\n",
       "       [ 9. ,  1. ,  9. , ...,  3.4,  2. ,  0. ],\n",
       "       [10. ,  1. , 11. , ...,  3.5,  2. ,  0. ],\n",
       "       ...,\n",
       "       [ 7. ,  0. ,  6.9, ...,  5.6,  2. ,  1. ],\n",
       "       [ 7. ,  1. ,  7.7, ...,  1.8,  3. ,  2. ],\n",
       "       [10. ,  1. ,  8.9, ...,  3.2,  3. ,  0. ]])"
      ]
     },
     "execution_count": 31,
     "metadata": {},
     "output_type": "execute_result"
    }
   ],
   "source": [
    "X"
   ]
  },
  {
   "cell_type": "code",
   "execution_count": 33,
   "id": "f7948b29-23f8-41ca-8c2e-42ac6f7e67b3",
   "metadata": {},
   "outputs": [
    {
     "data": {
      "text/plain": [
       "array([2, 1, 1, 1, 1, 0, 1, 0, 1, 1, 1, 1, 1, 0, 1, 1, 1, 1, 1, 1, 1, 1,\n",
       "       1, 1, 1, 1, 1, 1, 1, 1, 1, 1, 1, 1, 2, 0, 1, 1, 0, 1, 2, 1, 1, 1,\n",
       "       2, 1, 1, 1, 1, 2, 2, 1, 2, 1, 2, 1, 1, 1, 1, 1, 1, 1, 1, 1, 1, 2,\n",
       "       1, 1, 1, 2, 0, 1, 0, 2, 0, 0, 1, 2, 1, 1, 2, 1, 0, 1, 1, 0, 1, 1,\n",
       "       1, 2, 1, 2, 1, 2, 1, 1, 1, 2, 0, 1, 1, 1, 1, 0, 1, 2, 1, 0, 1, 1,\n",
       "       0, 1, 1, 1, 1, 1, 1, 1, 0, 1, 1, 1, 0, 1, 0, 1, 1, 1, 1, 1, 1, 1,\n",
       "       1, 1, 1, 1, 1, 2, 1, 1, 1, 0, 2, 1, 2, 1, 2, 1, 0, 1, 1, 1, 1, 1,\n",
       "       1, 0, 0, 1, 1, 1, 1, 1, 1, 1, 1, 1, 1, 0, 1, 2, 1, 1, 1, 1, 0, 2,\n",
       "       1, 1, 0, 1, 1, 1, 2, 1, 2, 1, 1, 1, 0, 1, 1, 0, 0, 1, 1, 1, 1, 2,\n",
       "       2, 1])"
      ]
     },
     "execution_count": 33,
     "metadata": {},
     "output_type": "execute_result"
    }
   ],
   "source": [
    "y"
   ]
  },
  {
   "cell_type": "code",
   "execution_count": 35,
   "id": "cfbefe51-d0ab-402e-9293-e739bc0aa17f",
   "metadata": {},
   "outputs": [],
   "source": [
    "# Train-Test Split (BEFORE any resampling/scaling)\n",
    "X_train, X_test, y_train, y_test = train_test_split(X, y, test_size=0.2, random_state=42, stratify=y)"
   ]
  },
  {
   "cell_type": "code",
   "execution_count": 37,
   "id": "34bebd86-366a-4f33-8e19-678811c82362",
   "metadata": {},
   "outputs": [
    {
     "data": {
      "text/plain": [
       "1.00625"
      ]
     },
     "execution_count": 37,
     "metadata": {},
     "output_type": "execute_result"
    }
   ],
   "source": [
    "y_train.mean()"
   ]
  },
  {
   "cell_type": "code",
   "execution_count": 39,
   "id": "ebdaad9b-32ba-4d98-bad5-c17678fff4b3",
   "metadata": {},
   "outputs": [
    {
     "data": {
      "text/plain": [
       "0.975"
      ]
     },
     "execution_count": 39,
     "metadata": {},
     "output_type": "execute_result"
    }
   ],
   "source": [
    "y_test.mean()"
   ]
  },
  {
   "cell_type": "code",
   "execution_count": 41,
   "id": "9bfe507d-80c9-43e7-87ec-598c9ec22c54",
   "metadata": {},
   "outputs": [],
   "source": [
    "# Scaling\n",
    "scaler = StandardScaler()\n",
    "X_train_scaled = scaler.fit_transform(X_train)\n",
    "X_test_scaled = scaler.transform(X_test)"
   ]
  },
  {
   "cell_type": "code",
   "execution_count": 43,
   "id": "c09e466f-f1b2-47fd-8542-e436e6c44eee",
   "metadata": {},
   "outputs": [],
   "source": [
    "# SMOTE (ONLY on the scaled training data)\n",
    "smote = SMOTE(random_state=42)\n",
    "X_train_resampled, y_train_resampled = smote.fit_resample(X_train_scaled, y_train)"
   ]
  },
  {
   "cell_type": "code",
   "execution_count": 51,
   "id": "a8f3e5fb-0b2d-4173-8733-388e5d66e435",
   "metadata": {},
   "outputs": [],
   "source": [
    "models = {\n",
    "    \"LogisticRegression\": (LogisticRegression(max_iter=1000), {\n",
    "        'C': [0.01, 0.1, 1, 10]\n",
    "    }),\n",
    "     \"DecisionTree\": (DecisionTreeClassifier(),{         \n",
    "         'criterion': ['gini', 'entropy','log_loss'],\n",
    "         'splitter':['best', 'random'],\n",
    "         'max_depth': [5, 10, 20]\n",
    "    }),\n",
    "    \"RandomForest\": (RandomForestClassifier(), {\n",
    "        'n_estimators': [50, 100, 200],\n",
    "        'max_depth': [None, 10, 20]\n",
    "    }),\n",
    "    \"SVM\": (SVC(probability=True), {\n",
    "        'C': [0.1, 1, 10],\n",
    "        'kernel': ['linear', 'rbf']\n",
    "    }),\n",
    "    \"XGBoost\": (XGBClassifier(use_label_encoder=False, eval_metric='mlogloss'), {\n",
    "        'n_estimators': [50, 100],\n",
    "        'learning_rate': [0.01, 0.1],\n",
    "        'max_depth': [3, 5]\n",
    "    })\n",
    "    # \"LightGBM\": (LGBMClassifier(), {\n",
    "    #     'n_estimators': [50, 100],\n",
    "    #     'learning_rate': [0.01, 0.1],\n",
    "    #     'num_leaves': [31, 50]\n",
    "    # })\n",
    "}"
   ]
  },
  {
   "cell_type": "code",
   "execution_count": 53,
   "id": "1cfdf199-dbbc-4059-b01e-ef7a2b53fbde",
   "metadata": {},
   "outputs": [
    {
     "name": "stdout",
     "output_type": "stream",
     "text": [
      "Tuning LogisticRegression...\n",
      "Best Params: {'C': 10}\n",
      "Accuracy: 0.90, F1 Score: 0.90\n",
      "              precision    recall  f1-score   support\n",
      "\n",
      "           0       0.67      1.00      0.80         6\n",
      "           1       0.96      0.90      0.93        29\n",
      "           2       1.00      0.80      0.89         5\n",
      "\n",
      "    accuracy                           0.90        40\n",
      "   macro avg       0.88      0.90      0.87        40\n",
      "weighted avg       0.92      0.90      0.90        40\n",
      "\n",
      "Tuning DecisionTree...\n",
      "Best Params: {'criterion': 'log_loss', 'max_depth': 20, 'splitter': 'best'}\n",
      "Accuracy: 0.97, F1 Score: 0.97\n",
      "              precision    recall  f1-score   support\n",
      "\n",
      "           0       1.00      1.00      1.00         6\n",
      "           1       0.97      1.00      0.98        29\n",
      "           2       1.00      0.80      0.89         5\n",
      "\n",
      "    accuracy                           0.97        40\n",
      "   macro avg       0.99      0.93      0.96        40\n",
      "weighted avg       0.98      0.97      0.97        40\n",
      "\n",
      "Tuning RandomForest...\n",
      "Best Params: {'max_depth': 20, 'n_estimators': 50}\n",
      "Accuracy: 0.97, F1 Score: 0.97\n",
      "              precision    recall  f1-score   support\n",
      "\n",
      "           0       1.00      1.00      1.00         6\n",
      "           1       0.97      1.00      0.98        29\n",
      "           2       1.00      0.80      0.89         5\n",
      "\n",
      "    accuracy                           0.97        40\n",
      "   macro avg       0.99      0.93      0.96        40\n",
      "weighted avg       0.98      0.97      0.97        40\n",
      "\n",
      "Tuning SVM...\n",
      "Best Params: {'C': 10, 'kernel': 'rbf'}\n",
      "Accuracy: 0.88, F1 Score: 0.88\n",
      "              precision    recall  f1-score   support\n",
      "\n",
      "           0       0.62      0.83      0.71         6\n",
      "           1       0.93      0.90      0.91        29\n",
      "           2       1.00      0.80      0.89         5\n",
      "\n",
      "    accuracy                           0.88        40\n",
      "   macro avg       0.85      0.84      0.84        40\n",
      "weighted avg       0.89      0.88      0.88        40\n",
      "\n",
      "Tuning XGBoost...\n",
      "Best Params: {'learning_rate': 0.01, 'max_depth': 5, 'n_estimators': 50}\n",
      "Accuracy: 0.97, F1 Score: 0.97\n",
      "              precision    recall  f1-score   support\n",
      "\n",
      "           0       1.00      1.00      1.00         6\n",
      "           1       0.97      1.00      0.98        29\n",
      "           2       1.00      0.80      0.89         5\n",
      "\n",
      "    accuracy                           0.97        40\n",
      "   macro avg       0.99      0.93      0.96        40\n",
      "weighted avg       0.98      0.97      0.97        40\n",
      "\n"
     ]
    }
   ],
   "source": [
    "\n",
    "best_model = None\n",
    "best_score = 0\n",
    "best_name = \"\"\n",
    "best_grid = None\n",
    "\n",
    "for name, (model, params) in models.items():\n",
    "    print(f\"Tuning {name}...\")\n",
    "    grid = GridSearchCV(model, params, cv=5, scoring='f1_weighted', n_jobs=-1,refit=True)\n",
    "    grid.fit(X_train_resampled, y_train_resampled)\n",
    "    y_pred = grid.predict(X_test_scaled)\n",
    "    acc = accuracy_score(y_test, y_pred)\n",
    "    f1 = f1_score(y_test, y_pred, average='weighted')\n",
    "    print(f\"Best Params: {grid.best_params_}\")\n",
    "    print(f\"Accuracy: {acc:.2f}, F1 Score: {f1:.2f}\")\n",
    "    print(classification_report(y_test, y_pred))\n",
    "\n",
    "    if f1 > best_score:\n",
    "        best_model = grid.best_estimator_\n",
    "        best_score = f1\n",
    "        best_name = name\n",
    "        best_grid = grid"
   ]
  },
  {
   "cell_type": "code",
   "execution_count": 55,
   "id": "59af5067-1b81-4409-9ea7-3ee99d2c5d33",
   "metadata": {},
   "outputs": [
    {
     "name": "stdout",
     "output_type": "stream",
     "text": [
      "\n",
      " Best Model: DecisionTree with F1 Score: 0.97\n",
      "Saved: best_model.pkl, scaler.pkl, label_encoders.pkl\n"
     ]
    }
   ],
   "source": [
    "# Save best model\n",
    "print(f\"\\n Best Model: {best_name} with F1 Score: {best_score:.2f}\")\n",
    "joblib.dump(best_model, \"best_model.pkl\")\n",
    "joblib.dump(scaler, \"scaler.pkl\")\n",
    "joblib.dump(label_encoders, \"label_encoders.pkl\")\n",
    "\n",
    "print(\"Saved: best_model.pkl, scaler.pkl, label_encoders.pkl\")\n"
   ]
  },
  {
   "cell_type": "code",
   "execution_count": 63,
   "id": "41953dba-c6ea-4b34-aaf3-36ce5edb92ee",
   "metadata": {},
   "outputs": [
    {
     "name": "stdout",
     "output_type": "stream",
     "text": [
      "✅ Top 5 Features to use in your Django UI:\n",
      "         Feature  Importance\n",
      "7           Mood    0.424221\n",
      "5    Screen_Time    0.220309\n",
      "3    Study_Hours    0.119841\n",
      "6  Meals_Per_Day    0.116325\n",
      "2    Sleep_Hours    0.106768\n"
     ]
    }
   ],
   "source": [
    "# Reconstruct original column names if lost\n",
    "original_X = df_encoded.drop(\"Behavior_Category\", axis=1)\n",
    "\n",
    "# Get feature importances\n",
    "if hasattr(best_model, \"feature_importances_\"):\n",
    "    importances = best_model.feature_importances_\n",
    "elif hasattr(best_model, \"coef_\"):\n",
    "    importances = best_model.coef_[0]\n",
    "else:\n",
    "    importances = [0]*original_X.shape[1]\n",
    "\n",
    "# Create DataFrame to view feature importance\n",
    "import pandas as pd\n",
    "feature_importance_df = pd.DataFrame({\n",
    "    \"Feature\": original_X.columns,\n",
    "    \"Importance\": importances\n",
    "}).sort_values(by=\"Importance\", ascending=False)\n",
    "\n",
    "top_5_features = feature_importance_df.head(5)\n",
    "print(\"✅ Top 5 Features to use in your Django UI:\")\n",
    "print(top_5_features)\n"
   ]
  },
  {
   "cell_type": "code",
   "execution_count": null,
   "id": "b59856d2-6663-40cf-8eef-bde57838765a",
   "metadata": {},
   "outputs": [],
   "source": []
  },
  {
   "cell_type": "code",
   "execution_count": null,
   "id": "b6a1a4ce-ad39-445c-a3d6-4e5aaacd50ac",
   "metadata": {},
   "outputs": [],
   "source": []
  }
 ],
 "metadata": {
  "kernelspec": {
   "display_name": "Python [conda env:base] *",
   "language": "python",
   "name": "conda-base-py"
  },
  "language_info": {
   "codemirror_mode": {
    "name": "ipython",
    "version": 3
   },
   "file_extension": ".py",
   "mimetype": "text/x-python",
   "name": "python",
   "nbconvert_exporter": "python",
   "pygments_lexer": "ipython3",
   "version": "3.12.7"
  }
 },
 "nbformat": 4,
 "nbformat_minor": 5
}
