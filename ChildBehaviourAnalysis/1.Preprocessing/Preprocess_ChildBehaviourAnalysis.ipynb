{
 "cells": [
  {
   "cell_type": "code",
   "execution_count": 21,
   "id": "e554c5e7-28ba-4f73-8188-9931c7446660",
   "metadata": {},
   "outputs": [],
   "source": [
    "# 1. Import libraries\n",
    "import pandas as pd\n",
    "import matplotlib.pyplot as plt\n",
    "import seaborn as sns\n",
    "from sklearn.preprocessing import LabelEncoder, StandardScaler\n",
    "import warnings\n",
    "warnings.filterwarnings(\"ignore\")"
   ]
  },
  {
   "cell_type": "code",
   "execution_count": 23,
   "id": "d99cf1d0-9459-4126-8513-3139aa9b7cf0",
   "metadata": {},
   "outputs": [
    {
     "name": "stdout",
     "output_type": "stream",
     "text": [
      "Shape: (200, 9)\n"
     ]
    },
    {
     "data": {
      "text/html": [
       "<div>\n",
       "<style scoped>\n",
       "    .dataframe tbody tr th:only-of-type {\n",
       "        vertical-align: middle;\n",
       "    }\n",
       "\n",
       "    .dataframe tbody tr th {\n",
       "        vertical-align: top;\n",
       "    }\n",
       "\n",
       "    .dataframe thead th {\n",
       "        text-align: right;\n",
       "    }\n",
       "</style>\n",
       "<table border=\"1\" class=\"dataframe\">\n",
       "  <thead>\n",
       "    <tr style=\"text-align: right;\">\n",
       "      <th></th>\n",
       "      <th>Age</th>\n",
       "      <th>Gender</th>\n",
       "      <th>Sleep_Hours</th>\n",
       "      <th>Study_Hours</th>\n",
       "      <th>Play_Hours</th>\n",
       "      <th>Screen_Time</th>\n",
       "      <th>Meals_Per_Day</th>\n",
       "      <th>Mood</th>\n",
       "      <th>Behavior_Category</th>\n",
       "    </tr>\n",
       "  </thead>\n",
       "  <tbody>\n",
       "    <tr>\n",
       "      <th>150</th>\n",
       "      <td>12</td>\n",
       "      <td>Male</td>\n",
       "      <td>7.4</td>\n",
       "      <td>2.0</td>\n",
       "      <td>1.6</td>\n",
       "      <td>2.3</td>\n",
       "      <td>2</td>\n",
       "      <td>Angry</td>\n",
       "      <td>Needs Improvement</td>\n",
       "    </tr>\n",
       "    <tr>\n",
       "      <th>36</th>\n",
       "      <td>11</td>\n",
       "      <td>Female</td>\n",
       "      <td>9.3</td>\n",
       "      <td>3.7</td>\n",
       "      <td>0.7</td>\n",
       "      <td>0.9</td>\n",
       "      <td>4</td>\n",
       "      <td>Angry</td>\n",
       "      <td>Healthy</td>\n",
       "    </tr>\n",
       "    <tr>\n",
       "      <th>54</th>\n",
       "      <td>11</td>\n",
       "      <td>Male</td>\n",
       "      <td>5.4</td>\n",
       "      <td>0.2</td>\n",
       "      <td>3.7</td>\n",
       "      <td>4.4</td>\n",
       "      <td>2</td>\n",
       "      <td>Happy</td>\n",
       "      <td>Unhealthy</td>\n",
       "    </tr>\n",
       "    <tr>\n",
       "      <th>157</th>\n",
       "      <td>11</td>\n",
       "      <td>Male</td>\n",
       "      <td>6.4</td>\n",
       "      <td>1.6</td>\n",
       "      <td>2.9</td>\n",
       "      <td>1.7</td>\n",
       "      <td>3</td>\n",
       "      <td>Happy</td>\n",
       "      <td>Needs Improvement</td>\n",
       "    </tr>\n",
       "    <tr>\n",
       "      <th>1</th>\n",
       "      <td>6</td>\n",
       "      <td>Female</td>\n",
       "      <td>8.8</td>\n",
       "      <td>2.1</td>\n",
       "      <td>1.0</td>\n",
       "      <td>0.3</td>\n",
       "      <td>4</td>\n",
       "      <td>Happy</td>\n",
       "      <td>Healthy</td>\n",
       "    </tr>\n",
       "  </tbody>\n",
       "</table>\n",
       "</div>"
      ],
      "text/plain": [
       "     Age  Gender  Sleep_Hours  Study_Hours  Play_Hours  Screen_Time  \\\n",
       "150   12    Male          7.4          2.0         1.6          2.3   \n",
       "36    11  Female          9.3          3.7         0.7          0.9   \n",
       "54    11    Male          5.4          0.2         3.7          4.4   \n",
       "157   11    Male          6.4          1.6         2.9          1.7   \n",
       "1      6  Female          8.8          2.1         1.0          0.3   \n",
       "\n",
       "     Meals_Per_Day   Mood  Behavior_Category  \n",
       "150              2  Angry  Needs Improvement  \n",
       "36               4  Angry            Healthy  \n",
       "54               2  Happy          Unhealthy  \n",
       "157              3  Happy  Needs Improvement  \n",
       "1                4  Happy            Healthy  "
      ]
     },
     "execution_count": 23,
     "metadata": {},
     "output_type": "execute_result"
    }
   ],
   "source": [
    "# 2. Load the dataset\n",
    "df = pd.read_csv(\"ChildBehaviourAnalysis.csv\")\n",
    "print(\"Shape:\", df.shape)\n",
    "df.sample(5)"
   ]
  },
  {
   "cell_type": "code",
   "execution_count": 25,
   "id": "f2ee0f4d-3499-4af0-a33a-39d066bc5733",
   "metadata": {},
   "outputs": [
    {
     "name": "stdout",
     "output_type": "stream",
     "text": [
      "<class 'pandas.core.frame.DataFrame'>\n",
      "RangeIndex: 200 entries, 0 to 199\n",
      "Data columns (total 9 columns):\n",
      " #   Column             Non-Null Count  Dtype  \n",
      "---  ------             --------------  -----  \n",
      " 0   Age                200 non-null    int64  \n",
      " 1   Gender             200 non-null    object \n",
      " 2   Sleep_Hours        200 non-null    float64\n",
      " 3   Study_Hours        200 non-null    float64\n",
      " 4   Play_Hours         200 non-null    float64\n",
      " 5   Screen_Time        200 non-null    float64\n",
      " 6   Meals_Per_Day      200 non-null    int64  \n",
      " 7   Mood               200 non-null    object \n",
      " 8   Behavior_Category  200 non-null    object \n",
      "dtypes: float64(4), int64(2), object(3)\n",
      "memory usage: 14.2+ KB\n"
     ]
    }
   ],
   "source": [
    "df.info()"
   ]
  },
  {
   "cell_type": "code",
   "execution_count": 27,
   "id": "6b679276-10b8-4933-9212-97dadfc5def2",
   "metadata": {},
   "outputs": [
    {
     "data": {
      "text/plain": [
       "Age                  0\n",
       "Gender               0\n",
       "Sleep_Hours          0\n",
       "Study_Hours          0\n",
       "Play_Hours           0\n",
       "Screen_Time          0\n",
       "Meals_Per_Day        0\n",
       "Mood                 0\n",
       "Behavior_Category    0\n",
       "dtype: int64"
      ]
     },
     "execution_count": 27,
     "metadata": {},
     "output_type": "execute_result"
    }
   ],
   "source": [
    "df.isnull().sum()"
   ]
  },
  {
   "cell_type": "code",
   "execution_count": 29,
   "id": "b59856d2-6663-40cf-8eef-bde57838765a",
   "metadata": {},
   "outputs": [
    {
     "data": {
      "text/plain": [
       "Index(['Age', 'Gender', 'Sleep_Hours', 'Study_Hours', 'Play_Hours',\n",
       "       'Screen_Time', 'Meals_Per_Day', 'Mood', 'Behavior_Category'],\n",
       "      dtype='object')"
      ]
     },
     "execution_count": 29,
     "metadata": {},
     "output_type": "execute_result"
    }
   ],
   "source": [
    "df.columns"
   ]
  },
  {
   "cell_type": "code",
   "execution_count": 31,
   "id": "61cd2888-1384-4b12-bbca-73412d289d96",
   "metadata": {},
   "outputs": [],
   "source": [
    "# Create age groups\n",
    "bins = [0, 5, 12, 15]\n",
    "labels = ['Toddler', 'Child', 'Teen']\n",
    "df['Age_Group'] = pd.cut(df['Age'], bins=bins, labels=labels)"
   ]
  },
  {
   "cell_type": "code",
   "execution_count": 33,
   "id": "2a87ea02-941d-4686-a5fa-93b3c4d997ac",
   "metadata": {},
   "outputs": [],
   "source": [
    "# Calculate total active hours\n",
    "df['Total_Hours'] = df['Sleep_Hours'] + df['Study_Hours'] + df['Play_Hours'] + df['Screen_Time']"
   ]
  },
  {
   "cell_type": "code",
   "execution_count": 35,
   "id": "2510f74b-e53c-4128-b7bf-de384487f564",
   "metadata": {},
   "outputs": [
    {
     "data": {
      "text/html": [
       "<div>\n",
       "<style scoped>\n",
       "    .dataframe tbody tr th:only-of-type {\n",
       "        vertical-align: middle;\n",
       "    }\n",
       "\n",
       "    .dataframe tbody tr th {\n",
       "        vertical-align: top;\n",
       "    }\n",
       "\n",
       "    .dataframe thead th {\n",
       "        text-align: right;\n",
       "    }\n",
       "</style>\n",
       "<table border=\"1\" class=\"dataframe\">\n",
       "  <thead>\n",
       "    <tr style=\"text-align: right;\">\n",
       "      <th></th>\n",
       "      <th>Age</th>\n",
       "      <th>Gender</th>\n",
       "      <th>Sleep_Hours</th>\n",
       "      <th>Study_Hours</th>\n",
       "      <th>Play_Hours</th>\n",
       "      <th>Screen_Time</th>\n",
       "      <th>Meals_Per_Day</th>\n",
       "      <th>Mood</th>\n",
       "      <th>Behavior_Category</th>\n",
       "      <th>Age_Group</th>\n",
       "      <th>Total_Hours</th>\n",
       "    </tr>\n",
       "  </thead>\n",
       "  <tbody>\n",
       "    <tr>\n",
       "      <th>0</th>\n",
       "      <td>14</td>\n",
       "      <td>Female</td>\n",
       "      <td>8.9</td>\n",
       "      <td>3.0</td>\n",
       "      <td>1.0</td>\n",
       "      <td>0.3</td>\n",
       "      <td>5</td>\n",
       "      <td>Angry</td>\n",
       "      <td>Healthy</td>\n",
       "      <td>Teen</td>\n",
       "      <td>13.2</td>\n",
       "    </tr>\n",
       "    <tr>\n",
       "      <th>1</th>\n",
       "      <td>6</td>\n",
       "      <td>Female</td>\n",
       "      <td>8.8</td>\n",
       "      <td>2.1</td>\n",
       "      <td>1.0</td>\n",
       "      <td>0.3</td>\n",
       "      <td>4</td>\n",
       "      <td>Happy</td>\n",
       "      <td>Healthy</td>\n",
       "      <td>Child</td>\n",
       "      <td>12.2</td>\n",
       "    </tr>\n",
       "    <tr>\n",
       "      <th>2</th>\n",
       "      <td>11</td>\n",
       "      <td>Female</td>\n",
       "      <td>8.4</td>\n",
       "      <td>3.5</td>\n",
       "      <td>1.3</td>\n",
       "      <td>0.9</td>\n",
       "      <td>3</td>\n",
       "      <td>Happy</td>\n",
       "      <td>Healthy</td>\n",
       "      <td>Child</td>\n",
       "      <td>14.1</td>\n",
       "    </tr>\n",
       "    <tr>\n",
       "      <th>3</th>\n",
       "      <td>14</td>\n",
       "      <td>Male</td>\n",
       "      <td>8.8</td>\n",
       "      <td>3.5</td>\n",
       "      <td>1.2</td>\n",
       "      <td>0.9</td>\n",
       "      <td>4</td>\n",
       "      <td>Happy</td>\n",
       "      <td>Healthy</td>\n",
       "      <td>Teen</td>\n",
       "      <td>14.4</td>\n",
       "    </tr>\n",
       "    <tr>\n",
       "      <th>4</th>\n",
       "      <td>9</td>\n",
       "      <td>Male</td>\n",
       "      <td>9.3</td>\n",
       "      <td>3.6</td>\n",
       "      <td>1.2</td>\n",
       "      <td>0.6</td>\n",
       "      <td>5</td>\n",
       "      <td>Happy</td>\n",
       "      <td>Healthy</td>\n",
       "      <td>Child</td>\n",
       "      <td>14.7</td>\n",
       "    </tr>\n",
       "  </tbody>\n",
       "</table>\n",
       "</div>"
      ],
      "text/plain": [
       "   Age  Gender  Sleep_Hours  Study_Hours  Play_Hours  Screen_Time  \\\n",
       "0   14  Female          8.9          3.0         1.0          0.3   \n",
       "1    6  Female          8.8          2.1         1.0          0.3   \n",
       "2   11  Female          8.4          3.5         1.3          0.9   \n",
       "3   14    Male          8.8          3.5         1.2          0.9   \n",
       "4    9    Male          9.3          3.6         1.2          0.6   \n",
       "\n",
       "   Meals_Per_Day   Mood Behavior_Category Age_Group  Total_Hours  \n",
       "0              5  Angry           Healthy      Teen         13.2  \n",
       "1              4  Happy           Healthy     Child         12.2  \n",
       "2              3  Happy           Healthy     Child         14.1  \n",
       "3              4  Happy           Healthy      Teen         14.4  \n",
       "4              5  Happy           Healthy     Child         14.7  "
      ]
     },
     "execution_count": 35,
     "metadata": {},
     "output_type": "execute_result"
    }
   ],
   "source": [
    "df.head(5)"
   ]
  },
  {
   "cell_type": "code",
   "execution_count": 37,
   "id": "b6a1a4ce-ad39-445c-a3d6-4e5aaacd50ac",
   "metadata": {},
   "outputs": [
    {
     "name": "stdout",
     "output_type": "stream",
     "text": [
      "['Age', 'Sleep_Hours', 'Study_Hours', 'Play_Hours', 'Screen_Time', 'Meals_Per_Day', 'Total_Hours']\n"
     ]
    }
   ],
   "source": [
    "numerical_col = [i for i in df.columns if df[i].dtype in ['int64', 'float64']]\n",
    "print(numerical_col)"
   ]
  },
  {
   "cell_type": "code",
   "execution_count": 39,
   "id": "0e67be5b-75eb-45cd-bada-ed35055608ed",
   "metadata": {},
   "outputs": [
    {
     "name": "stdout",
     "output_type": "stream",
     "text": [
      "['Gender', 'Mood', 'Behavior_Category', 'Age_Group']\n"
     ]
    }
   ],
   "source": [
    "categorical_col = [col for col in df.columns if col not in numerical_col]\n",
    "\n",
    "print(categorical_col)"
   ]
  },
  {
   "cell_type": "code",
   "execution_count": 41,
   "id": "e77fb934-6662-4545-ad5d-2d5012074a37",
   "metadata": {},
   "outputs": [],
   "source": [
    "# Encode categorical columns\n",
    "label_encoders = {}\n",
    "df_encoded = df.copy()\n",
    "for col in categorical_col:\n",
    "    le = LabelEncoder()\n",
    "    df_encoded[col] = le.fit_transform(df_encoded[col])\n",
    "    label_encoders[col] = le"
   ]
  },
  {
   "cell_type": "code",
   "execution_count": 43,
   "id": "99d74e4d-d592-498d-b69f-bdc605f041bf",
   "metadata": {},
   "outputs": [
    {
     "data": {
      "text/html": [
       "<div>\n",
       "<style scoped>\n",
       "    .dataframe tbody tr th:only-of-type {\n",
       "        vertical-align: middle;\n",
       "    }\n",
       "\n",
       "    .dataframe tbody tr th {\n",
       "        vertical-align: top;\n",
       "    }\n",
       "\n",
       "    .dataframe thead th {\n",
       "        text-align: right;\n",
       "    }\n",
       "</style>\n",
       "<table border=\"1\" class=\"dataframe\">\n",
       "  <thead>\n",
       "    <tr style=\"text-align: right;\">\n",
       "      <th></th>\n",
       "      <th>Age</th>\n",
       "      <th>Gender</th>\n",
       "      <th>Sleep_Hours</th>\n",
       "      <th>Study_Hours</th>\n",
       "      <th>Play_Hours</th>\n",
       "      <th>Screen_Time</th>\n",
       "      <th>Meals_Per_Day</th>\n",
       "      <th>Mood</th>\n",
       "      <th>Behavior_Category</th>\n",
       "      <th>Age_Group</th>\n",
       "      <th>Total_Hours</th>\n",
       "    </tr>\n",
       "  </thead>\n",
       "  <tbody>\n",
       "    <tr>\n",
       "      <th>0</th>\n",
       "      <td>14</td>\n",
       "      <td>0</td>\n",
       "      <td>8.9</td>\n",
       "      <td>3.0</td>\n",
       "      <td>1.0</td>\n",
       "      <td>0.3</td>\n",
       "      <td>5</td>\n",
       "      <td>0</td>\n",
       "      <td>0</td>\n",
       "      <td>1</td>\n",
       "      <td>13.2</td>\n",
       "    </tr>\n",
       "    <tr>\n",
       "      <th>1</th>\n",
       "      <td>6</td>\n",
       "      <td>0</td>\n",
       "      <td>8.8</td>\n",
       "      <td>2.1</td>\n",
       "      <td>1.0</td>\n",
       "      <td>0.3</td>\n",
       "      <td>4</td>\n",
       "      <td>1</td>\n",
       "      <td>0</td>\n",
       "      <td>0</td>\n",
       "      <td>12.2</td>\n",
       "    </tr>\n",
       "    <tr>\n",
       "      <th>2</th>\n",
       "      <td>11</td>\n",
       "      <td>0</td>\n",
       "      <td>8.4</td>\n",
       "      <td>3.5</td>\n",
       "      <td>1.3</td>\n",
       "      <td>0.9</td>\n",
       "      <td>3</td>\n",
       "      <td>1</td>\n",
       "      <td>0</td>\n",
       "      <td>0</td>\n",
       "      <td>14.1</td>\n",
       "    </tr>\n",
       "    <tr>\n",
       "      <th>3</th>\n",
       "      <td>14</td>\n",
       "      <td>1</td>\n",
       "      <td>8.8</td>\n",
       "      <td>3.5</td>\n",
       "      <td>1.2</td>\n",
       "      <td>0.9</td>\n",
       "      <td>4</td>\n",
       "      <td>1</td>\n",
       "      <td>0</td>\n",
       "      <td>1</td>\n",
       "      <td>14.4</td>\n",
       "    </tr>\n",
       "    <tr>\n",
       "      <th>4</th>\n",
       "      <td>9</td>\n",
       "      <td>1</td>\n",
       "      <td>9.3</td>\n",
       "      <td>3.6</td>\n",
       "      <td>1.2</td>\n",
       "      <td>0.6</td>\n",
       "      <td>5</td>\n",
       "      <td>1</td>\n",
       "      <td>0</td>\n",
       "      <td>0</td>\n",
       "      <td>14.7</td>\n",
       "    </tr>\n",
       "  </tbody>\n",
       "</table>\n",
       "</div>"
      ],
      "text/plain": [
       "   Age  Gender  Sleep_Hours  Study_Hours  Play_Hours  Screen_Time  \\\n",
       "0   14       0          8.9          3.0         1.0          0.3   \n",
       "1    6       0          8.8          2.1         1.0          0.3   \n",
       "2   11       0          8.4          3.5         1.3          0.9   \n",
       "3   14       1          8.8          3.5         1.2          0.9   \n",
       "4    9       1          9.3          3.6         1.2          0.6   \n",
       "\n",
       "   Meals_Per_Day  Mood  Behavior_Category  Age_Group  Total_Hours  \n",
       "0              5     0                  0          1         13.2  \n",
       "1              4     1                  0          0         12.2  \n",
       "2              3     1                  0          0         14.1  \n",
       "3              4     1                  0          1         14.4  \n",
       "4              5     1                  0          0         14.7  "
      ]
     },
     "execution_count": 43,
     "metadata": {},
     "output_type": "execute_result"
    }
   ],
   "source": [
    "df_encoded.head(5)"
   ]
  },
  {
   "cell_type": "code",
   "execution_count": 45,
   "id": "08dd4cc8-18c7-4dfa-aa58-2e117f204a15",
   "metadata": {},
   "outputs": [
    {
     "data": {
      "text/plain": [
       "{'Gender': LabelEncoder(),\n",
       " 'Mood': LabelEncoder(),\n",
       " 'Behavior_Category': LabelEncoder(),\n",
       " 'Age_Group': LabelEncoder()}"
      ]
     },
     "execution_count": 45,
     "metadata": {},
     "output_type": "execute_result"
    }
   ],
   "source": [
    "label_encoders"
   ]
  },
  {
   "cell_type": "code",
   "execution_count": 47,
   "id": "059c22cc-c7a1-4a67-a3f5-c292d365edb5",
   "metadata": {},
   "outputs": [
    {
     "name": "stdout",
     "output_type": "stream",
     "text": [
      "     Age Age_Group  Gender   Mood  Meals_Per_Day  Total_Hours\n",
      "0     14      Teen  Female  Angry              5         13.2\n",
      "1      6     Child  Female  Happy              4         12.2\n",
      "2     11     Child  Female  Happy              3         14.1\n",
      "3     14      Teen    Male  Happy              4         14.4\n",
      "4      9     Child    Male  Happy              5         14.7\n",
      "..   ...       ...     ...    ...            ...          ...\n",
      "195    9     Child  Female  Angry              3         11.5\n",
      "196   12     Child    Male    Sad              3         14.1\n",
      "197    9     Child    Male  Happy              2         13.0\n",
      "198    6     Child    Male  Angry              3         12.7\n",
      "199   13      Teen    Male  Happy              3         13.3\n",
      "\n",
      "[200 rows x 6 columns]\n"
     ]
    }
   ],
   "source": [
    "# Display processed dataframe\n",
    "print(df[['Age', 'Age_Group', 'Gender', 'Mood', 'Meals_Per_Day','Total_Hours']])"
   ]
  },
  {
   "cell_type": "code",
   "execution_count": null,
   "id": "e5c53133-f6ad-4059-a9f2-3995779132a9",
   "metadata": {},
   "outputs": [],
   "source": []
  },
  {
   "cell_type": "code",
   "execution_count": null,
   "id": "3c6977dd-5ebb-4e47-bc30-9bbccb03392d",
   "metadata": {},
   "outputs": [],
   "source": []
  }
 ],
 "metadata": {
  "kernelspec": {
   "display_name": "Python [conda env:base] *",
   "language": "python",
   "name": "conda-base-py"
  },
  "language_info": {
   "codemirror_mode": {
    "name": "ipython",
    "version": 3
   },
   "file_extension": ".py",
   "mimetype": "text/x-python",
   "name": "python",
   "nbconvert_exporter": "python",
   "pygments_lexer": "ipython3",
   "version": "3.12.7"
  }
 },
 "nbformat": 4,
 "nbformat_minor": 5
}
